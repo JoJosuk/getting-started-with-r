{
 "cells": [
  {
   "attachments": {},
   "cell_type": "markdown",
   "metadata": {},
   "source": [
    "matrix \n",
    "- matrix(data, nrow, ncol, byrow, dimnames=list( char_vector_rownames, char_vector_colnames))\n",
    "\n"
   ]
  },
  {
   "cell_type": "code",
   "execution_count": 149,
   "metadata": {
    "vscode": {
     "languageId": "r"
    }
   },
   "outputs": [
    {
     "name": "stderr",
     "output_type": "stream",
     "text": [
      "Warning message in matrix(1:20, nrow = 3, ncol = 3, byrow = TRUE, dimnames = list(c(\"hey\", :\n",
      "\"data length [20] is not a sub-multiple or multiple of the number of rows [3]\"\n"
     ]
    },
    {
     "data": {
      "text/html": [
       "<table class=\"dataframe\">\n",
       "<caption>A matrix: 3 × 3 of type int</caption>\n",
       "<thead>\n",
       "\t<tr><th></th><th scope=col>d</th><th scope=col>n</th><th scope=col>a</th></tr>\n",
       "</thead>\n",
       "<tbody>\n",
       "\t<tr><th scope=row>hey</th><td>1</td><td>2</td><td>3</td></tr>\n",
       "\t<tr><th scope=row>no</th><td>4</td><td>5</td><td>6</td></tr>\n",
       "\t<tr><th scope=row>now</th><td>7</td><td>8</td><td>9</td></tr>\n",
       "</tbody>\n",
       "</table>\n"
      ],
      "text/latex": [
       "A matrix: 3 × 3 of type int\n",
       "\\begin{tabular}{r|lll}\n",
       "  & d & n & a\\\\\n",
       "\\hline\n",
       "\they & 1 & 2 & 3\\\\\n",
       "\tno & 4 & 5 & 6\\\\\n",
       "\tnow & 7 & 8 & 9\\\\\n",
       "\\end{tabular}\n"
      ],
      "text/markdown": [
       "\n",
       "A matrix: 3 × 3 of type int\n",
       "\n",
       "| <!--/--> | d | n | a |\n",
       "|---|---|---|---|\n",
       "| hey | 1 | 2 | 3 |\n",
       "| no | 4 | 5 | 6 |\n",
       "| now | 7 | 8 | 9 |\n",
       "\n"
      ],
      "text/plain": [
       "    d n a\n",
       "hey 1 2 3\n",
       "no  4 5 6\n",
       "now 7 8 9"
      ]
     },
     "metadata": {},
     "output_type": "display_data"
    },
    {
     "name": "stdout",
     "output_type": "stream",
     "text": [
      "[1] 3 3\n"
     ]
    }
   ],
   "source": [
    "\n",
    "a=matrix(1:20,nrow=3,ncol =3,byrow = TRUE,dimnames =list(c('hey','no','now'),c('d','n','a')) )\n",
    "a\n",
    "print(dim(a))\n"
   ]
  },
  {
   "cell_type": "code",
   "execution_count": 150,
   "metadata": {
    "vscode": {
     "languageId": "r"
    }
   },
   "outputs": [
    {
     "data": {
      "text/html": [
       "<table class=\"dataframe\">\n",
       "<caption>A matrix: 3 × 3 of type dbl</caption>\n",
       "<tbody>\n",
       "\t<tr><td>1</td><td>0</td><td>0</td></tr>\n",
       "\t<tr><td>0</td><td>3</td><td>4</td></tr>\n",
       "\t<tr><td>0</td><td>0</td><td>3</td></tr>\n",
       "</tbody>\n",
       "</table>\n"
      ],
      "text/latex": [
       "A matrix: 3 × 3 of type dbl\n",
       "\\begin{tabular}{lll}\n",
       "\t 1 & 0 & 0\\\\\n",
       "\t 0 & 3 & 4\\\\\n",
       "\t 0 & 0 & 3\\\\\n",
       "\\end{tabular}\n"
      ],
      "text/markdown": [
       "\n",
       "A matrix: 3 × 3 of type dbl\n",
       "\n",
       "| 1 | 0 | 0 |\n",
       "| 0 | 3 | 4 |\n",
       "| 0 | 0 | 3 |\n",
       "\n"
      ],
      "text/plain": [
       "     [,1] [,2] [,3]\n",
       "[1,] 1    0    0   \n",
       "[2,] 0    3    4   \n",
       "[3,] 0    0    3   "
      ]
     },
     "metadata": {},
     "output_type": "display_data"
    },
    {
     "data": {
      "text/html": [
       "'double'"
      ],
      "text/latex": [
       "'double'"
      ],
      "text/markdown": [
       "'double'"
      ],
      "text/plain": [
       "[1] \"double\""
      ]
     },
     "metadata": {},
     "output_type": "display_data"
    }
   ],
   "source": [
    "diaMAtrix=diag(c(1,3,3))\n",
    "diaMAtrix[2,3]=4\n",
    "diaMAtrix\n",
    "typeof(diaMAtrix)"
   ]
  },
  {
   "cell_type": "code",
   "execution_count": 151,
   "metadata": {
    "vscode": {
     "languageId": "r"
    }
   },
   "outputs": [
    {
     "data": {
      "text/html": [
       "<style>\n",
       ".list-inline {list-style: none; margin:0; padding: 0}\n",
       ".list-inline>li {display: inline-block}\n",
       ".list-inline>li:not(:last-child)::after {content: \"\\00b7\"; padding: 0 .5ex}\n",
       "</style>\n",
       "<ol class=list-inline><li>0</li><li>3</li><li>4</li></ol>\n"
      ],
      "text/latex": [
       "\\begin{enumerate*}\n",
       "\\item 0\n",
       "\\item 3\n",
       "\\item 4\n",
       "\\end{enumerate*}\n"
      ],
      "text/markdown": [
       "1. 0\n",
       "2. 3\n",
       "3. 4\n",
       "\n",
       "\n"
      ],
      "text/plain": [
       "[1] 0 3 4"
      ]
     },
     "metadata": {},
     "output_type": "display_data"
    },
    {
     "data": {
      "text/html": [
       "<style>\n",
       ".list-inline {list-style: none; margin:0; padding: 0}\n",
       ".list-inline>li {display: inline-block}\n",
       ".list-inline>li:not(:last-child)::after {content: \"\\00b7\"; padding: 0 .5ex}\n",
       "</style>\n",
       "<ol class=list-inline><li>0</li><li>3</li><li>0</li></ol>\n"
      ],
      "text/latex": [
       "\\begin{enumerate*}\n",
       "\\item 0\n",
       "\\item 3\n",
       "\\item 0\n",
       "\\end{enumerate*}\n"
      ],
      "text/markdown": [
       "1. 0\n",
       "2. 3\n",
       "3. 0\n",
       "\n",
       "\n"
      ],
      "text/plain": [
       "[1] 0 3 0"
      ]
     },
     "metadata": {},
     "output_type": "display_data"
    },
    {
     "data": {
      "text/html": [
       "<table class=\"dataframe\">\n",
       "<caption>A matrix: 3 × 2 of type dbl</caption>\n",
       "<tbody>\n",
       "\t<tr><td>1</td><td>0</td></tr>\n",
       "\t<tr><td>0</td><td>4</td></tr>\n",
       "\t<tr><td>0</td><td>3</td></tr>\n",
       "</tbody>\n",
       "</table>\n"
      ],
      "text/latex": [
       "A matrix: 3 × 2 of type dbl\n",
       "\\begin{tabular}{ll}\n",
       "\t 1 & 0\\\\\n",
       "\t 0 & 4\\\\\n",
       "\t 0 & 3\\\\\n",
       "\\end{tabular}\n"
      ],
      "text/markdown": [
       "\n",
       "A matrix: 3 × 2 of type dbl\n",
       "\n",
       "| 1 | 0 |\n",
       "| 0 | 4 |\n",
       "| 0 | 3 |\n",
       "\n"
      ],
      "text/plain": [
       "     [,1] [,2]\n",
       "[1,] 1    0   \n",
       "[2,] 0    4   \n",
       "[3,] 0    3   "
      ]
     },
     "metadata": {},
     "output_type": "display_data"
    },
    {
     "data": {
      "text/html": [
       "<table class=\"dataframe\">\n",
       "<caption>A matrix: 2 × 3 of type dbl</caption>\n",
       "<tbody>\n",
       "\t<tr><td>1</td><td>0</td><td>0</td></tr>\n",
       "\t<tr><td>0</td><td>0</td><td>3</td></tr>\n",
       "</tbody>\n",
       "</table>\n"
      ],
      "text/latex": [
       "A matrix: 2 × 3 of type dbl\n",
       "\\begin{tabular}{lll}\n",
       "\t 1 & 0 & 0\\\\\n",
       "\t 0 & 0 & 3\\\\\n",
       "\\end{tabular}\n"
      ],
      "text/markdown": [
       "\n",
       "A matrix: 2 × 3 of type dbl\n",
       "\n",
       "| 1 | 0 | 0 |\n",
       "| 0 | 0 | 3 |\n",
       "\n"
      ],
      "text/plain": [
       "     [,1] [,2] [,3]\n",
       "[1,] 1    0    0   \n",
       "[2,] 0    0    3   "
      ]
     },
     "metadata": {},
     "output_type": "display_data"
    }
   ],
   "source": [
    "diaMAtrix[2,]\n",
    "diaMAtrix[,2]\n",
    "diaMAtrix[,-2]\n",
    "diaMAtrix[-2,]"
   ]
  },
  {
   "cell_type": "code",
   "execution_count": 152,
   "metadata": {
    "vscode": {
     "languageId": "r"
    }
   },
   "outputs": [
    {
     "data": {
      "text/html": [
       "<table class=\"dataframe\">\n",
       "<caption>A matrix: 3 × 3 of type dbl</caption>\n",
       "<tbody>\n",
       "\t<tr><td>1</td><td>0.0000000</td><td> 0.0000000</td></tr>\n",
       "\t<tr><td>0</td><td>0.3333333</td><td>-0.4444444</td></tr>\n",
       "\t<tr><td>0</td><td>0.0000000</td><td> 0.3333333</td></tr>\n",
       "</tbody>\n",
       "</table>\n"
      ],
      "text/latex": [
       "A matrix: 3 × 3 of type dbl\n",
       "\\begin{tabular}{lll}\n",
       "\t 1 & 0.0000000 &  0.0000000\\\\\n",
       "\t 0 & 0.3333333 & -0.4444444\\\\\n",
       "\t 0 & 0.0000000 &  0.3333333\\\\\n",
       "\\end{tabular}\n"
      ],
      "text/markdown": [
       "\n",
       "A matrix: 3 × 3 of type dbl\n",
       "\n",
       "| 1 | 0.0000000 |  0.0000000 |\n",
       "| 0 | 0.3333333 | -0.4444444 |\n",
       "| 0 | 0.0000000 |  0.3333333 |\n",
       "\n"
      ],
      "text/plain": [
       "     [,1] [,2]      [,3]      \n",
       "[1,] 1    0.0000000  0.0000000\n",
       "[2,] 0    0.3333333 -0.4444444\n",
       "[3,] 0    0.0000000  0.3333333"
      ]
     },
     "metadata": {},
     "output_type": "display_data"
    }
   ],
   "source": [
    "solve(diaMAtrix)"
   ]
  },
  {
   "cell_type": "code",
   "execution_count": 153,
   "metadata": {
    "vscode": {
     "languageId": "r"
    }
   },
   "outputs": [
    {
     "data": {
      "text/html": [
       "<table class=\"dataframe\">\n",
       "<caption>A matrix: 3 × 3 of type dbl</caption>\n",
       "<tbody>\n",
       "\t<tr><td>1</td><td>0</td><td>0</td></tr>\n",
       "\t<tr><td>0</td><td>3</td><td>4</td></tr>\n",
       "\t<tr><td>0</td><td>0</td><td>3</td></tr>\n",
       "</tbody>\n",
       "</table>\n"
      ],
      "text/latex": [
       "A matrix: 3 × 3 of type dbl\n",
       "\\begin{tabular}{lll}\n",
       "\t 1 & 0 & 0\\\\\n",
       "\t 0 & 3 & 4\\\\\n",
       "\t 0 & 0 & 3\\\\\n",
       "\\end{tabular}\n"
      ],
      "text/markdown": [
       "\n",
       "A matrix: 3 × 3 of type dbl\n",
       "\n",
       "| 1 | 0 | 0 |\n",
       "| 0 | 3 | 4 |\n",
       "| 0 | 0 | 3 |\n",
       "\n"
      ],
      "text/plain": [
       "     [,1] [,2] [,3]\n",
       "[1,] 1    0    0   \n",
       "[2,] 0    3    4   \n",
       "[3,] 0    0    3   "
      ]
     },
     "metadata": {},
     "output_type": "display_data"
    },
    {
     "data": {
      "text/html": [
       "<style>\n",
       ".list-inline {list-style: none; margin:0; padding: 0}\n",
       ".list-inline>li {display: inline-block}\n",
       ".list-inline>li:not(:last-child)::after {content: \"\\00b7\"; padding: 0 .5ex}\n",
       "</style>\n",
       "<ol class=list-inline><li>1</li><li>7</li><li>3</li></ol>\n"
      ],
      "text/latex": [
       "\\begin{enumerate*}\n",
       "\\item 1\n",
       "\\item 7\n",
       "\\item 3\n",
       "\\end{enumerate*}\n"
      ],
      "text/markdown": [
       "1. 1\n",
       "2. 7\n",
       "3. 3\n",
       "\n",
       "\n"
      ],
      "text/plain": [
       "[1] 1 7 3"
      ]
     },
     "metadata": {},
     "output_type": "display_data"
    },
    {
     "data": {
      "text/html": [
       "<style>\n",
       ".list-inline {list-style: none; margin:0; padding: 0}\n",
       ".list-inline>li {display: inline-block}\n",
       ".list-inline>li:not(:last-child)::after {content: \"\\00b7\"; padding: 0 .5ex}\n",
       "</style>\n",
       "<ol class=list-inline><li>1</li><li>3</li><li>7</li></ol>\n"
      ],
      "text/latex": [
       "\\begin{enumerate*}\n",
       "\\item 1\n",
       "\\item 3\n",
       "\\item 7\n",
       "\\end{enumerate*}\n"
      ],
      "text/markdown": [
       "1. 1\n",
       "2. 3\n",
       "3. 7\n",
       "\n",
       "\n"
      ],
      "text/plain": [
       "[1] 1 3 7"
      ]
     },
     "metadata": {},
     "output_type": "display_data"
    },
    {
     "data": {
      "text/html": [
       "<style>\n",
       ".list-inline {list-style: none; margin:0; padding: 0}\n",
       ".list-inline>li {display: inline-block}\n",
       ".list-inline>li:not(:last-child)::after {content: \"\\00b7\"; padding: 0 .5ex}\n",
       "</style>\n",
       "<ol class=list-inline><li>0.333333333333333</li><li>2.33333333333333</li><li>1</li></ol>\n"
      ],
      "text/latex": [
       "\\begin{enumerate*}\n",
       "\\item 0.333333333333333\n",
       "\\item 2.33333333333333\n",
       "\\item 1\n",
       "\\end{enumerate*}\n"
      ],
      "text/markdown": [
       "1. 0.333333333333333\n",
       "2. 2.33333333333333\n",
       "3. 1\n",
       "\n",
       "\n"
      ],
      "text/plain": [
       "[1] 0.3333333 2.3333333 1.0000000"
      ]
     },
     "metadata": {},
     "output_type": "display_data"
    },
    {
     "data": {
      "text/html": [
       "<style>\n",
       ".list-inline {list-style: none; margin:0; padding: 0}\n",
       ".list-inline>li {display: inline-block}\n",
       ".list-inline>li:not(:last-child)::after {content: \"\\00b7\"; padding: 0 .5ex}\n",
       "</style>\n",
       "<ol class=list-inline><li>0.333333333333333</li><li>1</li><li>2.33333333333333</li></ol>\n"
      ],
      "text/latex": [
       "\\begin{enumerate*}\n",
       "\\item 0.333333333333333\n",
       "\\item 1\n",
       "\\item 2.33333333333333\n",
       "\\end{enumerate*}\n"
      ],
      "text/markdown": [
       "1. 0.333333333333333\n",
       "2. 1\n",
       "3. 2.33333333333333\n",
       "\n",
       "\n"
      ],
      "text/plain": [
       "[1] 0.3333333 1.0000000 2.3333333"
      ]
     },
     "metadata": {},
     "output_type": "display_data"
    }
   ],
   "source": [
    "diaMAtrix\n",
    "rowSums(diaMAtrix)\n",
    "colSums(diaMAtrix)\n",
    "rowMeans(diaMAtrix)\n",
    "colMeans(diaMAtrix)"
   ]
  },
  {
   "cell_type": "code",
   "execution_count": 154,
   "metadata": {
    "vscode": {
     "languageId": "r"
    }
   },
   "outputs": [
    {
     "data": {
      "text/html": [
       "<style>\n",
       ".list-inline {list-style: none; margin:0; padding: 0}\n",
       ".list-inline>li {display: inline-block}\n",
       ".list-inline>li:not(:last-child)::after {content: \"\\00b7\"; padding: 0 .5ex}\n",
       "</style>\n",
       "<ol class=list-inline><li>1</li><li>3</li><li>7</li></ol>\n"
      ],
      "text/latex": [
       "\\begin{enumerate*}\n",
       "\\item 1\n",
       "\\item 3\n",
       "\\item 7\n",
       "\\end{enumerate*}\n"
      ],
      "text/markdown": [
       "1. 1\n",
       "2. 3\n",
       "3. 7\n",
       "\n",
       "\n"
      ],
      "text/plain": [
       "[1] 1 3 7"
      ]
     },
     "metadata": {},
     "output_type": "display_data"
    },
    {
     "data": {
      "text/html": [
       "<style>\n",
       ".list-inline {list-style: none; margin:0; padding: 0}\n",
       ".list-inline>li {display: inline-block}\n",
       ".list-inline>li:not(:last-child)::after {content: \"\\00b7\"; padding: 0 .5ex}\n",
       "</style>\n",
       "<ol class=list-inline><li>1</li><li>7</li><li>3</li></ol>\n"
      ],
      "text/latex": [
       "\\begin{enumerate*}\n",
       "\\item 1\n",
       "\\item 7\n",
       "\\item 3\n",
       "\\end{enumerate*}\n"
      ],
      "text/markdown": [
       "1. 1\n",
       "2. 7\n",
       "3. 3\n",
       "\n",
       "\n"
      ],
      "text/plain": [
       "[1] 1 7 3"
      ]
     },
     "metadata": {},
     "output_type": "display_data"
    },
    {
     "data": {
      "text/html": [
       "<style>\n",
       ".list-inline {list-style: none; margin:0; padding: 0}\n",
       ".list-inline>li {display: inline-block}\n",
       ".list-inline>li:not(:last-child)::after {content: \"\\00b7\"; padding: 0 .5ex}\n",
       "</style>\n",
       "<ol class=list-inline><li>3</li><li>3</li><li>3</li></ol>\n"
      ],
      "text/latex": [
       "\\begin{enumerate*}\n",
       "\\item 3\n",
       "\\item 3\n",
       "\\item 3\n",
       "\\end{enumerate*}\n"
      ],
      "text/markdown": [
       "1. 3\n",
       "2. 3\n",
       "3. 3\n",
       "\n",
       "\n"
      ],
      "text/plain": [
       "[1] 3 3 3"
      ]
     },
     "metadata": {},
     "output_type": "display_data"
    },
    {
     "data": {
      "text/html": [
       "<style>\n",
       ".list-inline {list-style: none; margin:0; padding: 0}\n",
       ".list-inline>li {display: inline-block}\n",
       ".list-inline>li:not(:last-child)::after {content: \"\\00b7\"; padding: 0 .5ex}\n",
       "</style>\n",
       "<ol class=list-inline><li>3</li><li>3</li><li>3</li></ol>\n"
      ],
      "text/latex": [
       "\\begin{enumerate*}\n",
       "\\item 3\n",
       "\\item 3\n",
       "\\item 3\n",
       "\\end{enumerate*}\n"
      ],
      "text/markdown": [
       "1. 3\n",
       "2. 3\n",
       "3. 3\n",
       "\n",
       "\n"
      ],
      "text/plain": [
       "[1] 3 3 3"
      ]
     },
     "metadata": {},
     "output_type": "display_data"
    }
   ],
   "source": [
    "apply(diaMAtrix,2,FUN = sum)\n",
    "apply(diaMAtrix,1,FUN = sum)\n",
    "apply(diaMAtrix,1,length)\n",
    "apply(diaMAtrix,2,length)"
   ]
  },
  {
   "attachments": {},
   "cell_type": "markdown",
   "metadata": {},
   "source": [
    "LIST\n"
   ]
  },
  {
   "cell_type": "code",
   "execution_count": 155,
   "metadata": {
    "vscode": {
     "languageId": "r"
    }
   },
   "outputs": [
    {
     "data": {
      "text/html": [
       "<ol>\n",
       "\t<li><style>\n",
       ".list-inline {list-style: none; margin:0; padding: 0}\n",
       ".list-inline>li {display: inline-block}\n",
       ".list-inline>li:not(:last-child)::after {content: \"\\00b7\"; padding: 0 .5ex}\n",
       "</style>\n",
       "<ol class=list-inline><li>'tom'</li><li>'Bob'</li><li>'Smith'</li></ol>\n",
       "</li>\n",
       "\t<li><table class=\"dataframe\">\n",
       "<caption>A matrix: 2 × 3 of type dbl</caption>\n",
       "<tbody>\n",
       "\t<tr><td>40</td><td>60</td><td>90</td></tr>\n",
       "\t<tr><td>80</td><td>70</td><td>80</td></tr>\n",
       "</tbody>\n",
       "</table>\n",
       "</li>\n",
       "\t<li><ol>\n",
       "\t<li><ol>\n",
       "\t<li>'BCA'</li>\n",
       "\t<li>'MCA'</li>\n",
       "\t<li>'B.tech'</li>\n",
       "</ol>\n",
       "</li>\n",
       "\t<li>'ernakulam'</li>\n",
       "</ol>\n",
       "</li>\n",
       "</ol>\n"
      ],
      "text/latex": [
       "\\begin{enumerate}\n",
       "\\item \\begin{enumerate*}\n",
       "\\item 'tom'\n",
       "\\item 'Bob'\n",
       "\\item 'Smith'\n",
       "\\end{enumerate*}\n",
       "\n",
       "\\item A matrix: 2 × 3 of type dbl\n",
       "\\begin{tabular}{lll}\n",
       "\t 40 & 60 & 90\\\\\n",
       "\t 80 & 70 & 80\\\\\n",
       "\\end{tabular}\n",
       "\n",
       "\\item \\begin{enumerate}\n",
       "\\item \\begin{enumerate}\n",
       "\\item 'BCA'\n",
       "\\item 'MCA'\n",
       "\\item 'B.tech'\n",
       "\\end{enumerate}\n",
       "\n",
       "\\item 'ernakulam'\n",
       "\\end{enumerate}\n",
       "\n",
       "\\end{enumerate}\n"
      ],
      "text/markdown": [
       "1. 1. 'tom'\n",
       "2. 'Bob'\n",
       "3. 'Smith'\n",
       "\n",
       "\n",
       "\n",
       "2. \n",
       "A matrix: 2 × 3 of type dbl\n",
       "\n",
       "| 40 | 60 | 90 |\n",
       "| 80 | 70 | 80 |\n",
       "\n",
       "\n",
       "3. 1. 1. 'BCA'\n",
       "2. 'MCA'\n",
       "3. 'B.tech'\n",
       "\n",
       "\n",
       "\n",
       "2. 'ernakulam'\n",
       "\n",
       "\n",
       "\n",
       "\n",
       "\n"
      ],
      "text/plain": [
       "[[1]]\n",
       "[1] \"tom\"   \"Bob\"   \"Smith\"\n",
       "\n",
       "[[2]]\n",
       "     [,1] [,2] [,3]\n",
       "[1,]   40   60   90\n",
       "[2,]   80   70   80\n",
       "\n",
       "[[3]]\n",
       "[[3]][[1]]\n",
       "[[3]][[1]][[1]]\n",
       "[1] \"BCA\"\n",
       "\n",
       "[[3]][[1]][[2]]\n",
       "[1] \"MCA\"\n",
       "\n",
       "[[3]][[1]][[3]]\n",
       "[1] \"B.tech\"\n",
       "\n",
       "\n",
       "[[3]][[2]]\n",
       "[1] \"ernakulam\"\n",
       "\n"
      ]
     },
     "metadata": {},
     "output_type": "display_data"
    }
   ],
   "source": [
    "list_data <- list(c(\"tom\",\"Bob\",\"Smith\"),  matrix(c(40,80,60,70,90,80), nrow = 2),list(\"BCA\",\"MCA\",\"B.tech\")) \n",
    "list_data[3]=list(c(c(list_data[3]),c('ernakulam')))\n",
    "list_data\n"
   ]
  },
  {
   "cell_type": "code",
   "execution_count": 156,
   "metadata": {
    "vscode": {
     "languageId": "r"
    }
   },
   "outputs": [
    {
     "data": {
      "text/html": [
       "<table class=\"dataframe\">\n",
       "<caption>A data.frame: 4 × 4</caption>\n",
       "<thead>\n",
       "\t<tr><th scope=col>patientid</th><th scope=col>age</th><th scope=col>diabetes</th><th scope=col>status</th></tr>\n",
       "\t<tr><th scope=col>&lt;dbl&gt;</th><th scope=col>&lt;dbl&gt;</th><th scope=col>&lt;chr&gt;</th><th scope=col>&lt;chr&gt;</th></tr>\n",
       "</thead>\n",
       "<tbody>\n",
       "\t<tr><td> 1</td><td>22</td><td>type1</td><td>poor     </td></tr>\n",
       "\t<tr><td> 3</td><td> 3</td><td>type2</td><td>improved </td></tr>\n",
       "\t<tr><td>NA</td><td>45</td><td>type1</td><td>excellent</td></tr>\n",
       "\t<tr><td> 5</td><td>66</td><td>type2</td><td>poor     </td></tr>\n",
       "</tbody>\n",
       "</table>\n"
      ],
      "text/latex": [
       "A data.frame: 4 × 4\n",
       "\\begin{tabular}{llll}\n",
       " patientid & age & diabetes & status\\\\\n",
       " <dbl> & <dbl> & <chr> & <chr>\\\\\n",
       "\\hline\n",
       "\t  1 & 22 & type1 & poor     \\\\\n",
       "\t  3 &  3 & type2 & improved \\\\\n",
       "\t NA & 45 & type1 & excellent\\\\\n",
       "\t  5 & 66 & type2 & poor     \\\\\n",
       "\\end{tabular}\n"
      ],
      "text/markdown": [
       "\n",
       "A data.frame: 4 × 4\n",
       "\n",
       "| patientid &lt;dbl&gt; | age &lt;dbl&gt; | diabetes &lt;chr&gt; | status &lt;chr&gt; |\n",
       "|---|---|---|---|\n",
       "|  1 | 22 | type1 | poor      |\n",
       "|  3 |  3 | type2 | improved  |\n",
       "| NA | 45 | type1 | excellent |\n",
       "|  5 | 66 | type2 | poor      |\n",
       "\n"
      ],
      "text/plain": [
       "  patientid age diabetes status   \n",
       "1  1        22  type1    poor     \n",
       "2  3         3  type2    improved \n",
       "3 NA        45  type1    excellent\n",
       "4  5        66  type2    poor     "
      ]
     },
     "metadata": {},
     "output_type": "display_data"
    },
    {
     "data": {
      "text/html": [
       "<style>\n",
       ".list-inline {list-style: none; margin:0; padding: 0}\n",
       ".list-inline>li {display: inline-block}\n",
       ".list-inline>li:not(:last-child)::after {content: \"\\00b7\"; padding: 0 .5ex}\n",
       "</style>\n",
       "<ol class=list-inline><li>22</li><li>3</li><li>45</li><li>66</li></ol>\n"
      ],
      "text/latex": [
       "\\begin{enumerate*}\n",
       "\\item 22\n",
       "\\item 3\n",
       "\\item 45\n",
       "\\item 66\n",
       "\\end{enumerate*}\n"
      ],
      "text/markdown": [
       "1. 22\n",
       "2. 3\n",
       "3. 45\n",
       "4. 66\n",
       "\n",
       "\n"
      ],
      "text/plain": [
       "[1] 22  3 45 66"
      ]
     },
     "metadata": {},
     "output_type": "display_data"
    },
    {
     "data": {
      "text/html": [
       "<style>\n",
       ".list-inline {list-style: none; margin:0; padding: 0}\n",
       ".list-inline>li {display: inline-block}\n",
       ".list-inline>li:not(:last-child)::after {content: \"\\00b7\"; padding: 0 .5ex}\n",
       "</style>\n",
       "<ol class=list-inline><li>'type1'</li><li>'type2'</li><li>'type1'</li><li>'type2'</li></ol>\n"
      ],
      "text/latex": [
       "\\begin{enumerate*}\n",
       "\\item 'type1'\n",
       "\\item 'type2'\n",
       "\\item 'type1'\n",
       "\\item 'type2'\n",
       "\\end{enumerate*}\n"
      ],
      "text/markdown": [
       "1. 'type1'\n",
       "2. 'type2'\n",
       "3. 'type1'\n",
       "4. 'type2'\n",
       "\n",
       "\n"
      ],
      "text/plain": [
       "[1] \"type1\" \"type2\" \"type1\" \"type2\""
      ]
     },
     "metadata": {},
     "output_type": "display_data"
    },
    {
     "data": {
      "text/html": [
       "<style>\n",
       ".list-inline {list-style: none; margin:0; padding: 0}\n",
       ".list-inline>li {display: inline-block}\n",
       ".list-inline>li:not(:last-child)::after {content: \"\\00b7\"; padding: 0 .5ex}\n",
       "</style>\n",
       "<ol class=list-inline><li>TRUE</li><li>TRUE</li><li>FALSE</li><li>TRUE</li></ol>\n"
      ],
      "text/latex": [
       "\\begin{enumerate*}\n",
       "\\item TRUE\n",
       "\\item TRUE\n",
       "\\item FALSE\n",
       "\\item TRUE\n",
       "\\end{enumerate*}\n"
      ],
      "text/markdown": [
       "1. TRUE\n",
       "2. TRUE\n",
       "3. FALSE\n",
       "4. TRUE\n",
       "\n",
       "\n"
      ],
      "text/plain": [
       "[1]  TRUE  TRUE FALSE  TRUE"
      ]
     },
     "metadata": {},
     "output_type": "display_data"
    },
    {
     "data": {
      "text/html": [
       "<table class=\"dataframe\">\n",
       "<caption>A data.frame: 4 × 4</caption>\n",
       "<thead>\n",
       "\t<tr><th scope=col>patientid</th><th scope=col>age</th><th scope=col>diabetes</th><th scope=col>status</th></tr>\n",
       "\t<tr><th scope=col>&lt;dbl&gt;</th><th scope=col>&lt;dbl&gt;</th><th scope=col>&lt;chr&gt;</th><th scope=col>&lt;chr&gt;</th></tr>\n",
       "</thead>\n",
       "<tbody>\n",
       "\t<tr><td> 1</td><td>22</td><td>type1</td><td>poor     </td></tr>\n",
       "\t<tr><td> 3</td><td> 3</td><td>type2</td><td>improved </td></tr>\n",
       "\t<tr><td>NA</td><td>45</td><td>type1</td><td>excellent</td></tr>\n",
       "\t<tr><td> 5</td><td>66</td><td>type2</td><td>poor     </td></tr>\n",
       "</tbody>\n",
       "</table>\n"
      ],
      "text/latex": [
       "A data.frame: 4 × 4\n",
       "\\begin{tabular}{llll}\n",
       " patientid & age & diabetes & status\\\\\n",
       " <dbl> & <dbl> & <chr> & <chr>\\\\\n",
       "\\hline\n",
       "\t  1 & 22 & type1 & poor     \\\\\n",
       "\t  3 &  3 & type2 & improved \\\\\n",
       "\t NA & 45 & type1 & excellent\\\\\n",
       "\t  5 & 66 & type2 & poor     \\\\\n",
       "\\end{tabular}\n"
      ],
      "text/markdown": [
       "\n",
       "A data.frame: 4 × 4\n",
       "\n",
       "| patientid &lt;dbl&gt; | age &lt;dbl&gt; | diabetes &lt;chr&gt; | status &lt;chr&gt; |\n",
       "|---|---|---|---|\n",
       "|  1 | 22 | type1 | poor      |\n",
       "|  3 |  3 | type2 | improved  |\n",
       "| NA | 45 | type1 | excellent |\n",
       "|  5 | 66 | type2 | poor      |\n",
       "\n"
      ],
      "text/plain": [
       "  patientid age diabetes status   \n",
       "1  1        22  type1    poor     \n",
       "2  3         3  type2    improved \n",
       "3 NA        45  type1    excellent\n",
       "4  5        66  type2    poor     "
      ]
     },
     "metadata": {},
     "output_type": "display_data"
    }
   ],
   "source": [
    "patientid=c(1,3,NA,5)\n",
    "age=c(22,3,45,66)\n",
    "diabetes=c('type1','type2')\n",
    "status=c('poor','improved','excellent','poor')\n",
    "patientdata=data.frame(patientid,age,diabetes,status)\n",
    "patientdata\n",
    "patientdata$age\n",
    "patientdata$diabetes\n",
    "complete.cases(patientdata$patientid)\n",
    "patientdata"
   ]
  },
  {
   "cell_type": "code",
   "execution_count": 157,
   "metadata": {
    "vscode": {
     "languageId": "r"
    }
   },
   "outputs": [
    {
     "data": {
      "text/html": [
       "<table class=\"dataframe\">\n",
       "<caption>A data.frame: 2 × 2</caption>\n",
       "<thead>\n",
       "\t<tr><th scope=col>Var1</th><th scope=col>Freq</th></tr>\n",
       "\t<tr><th scope=col>&lt;fct&gt;</th><th scope=col>&lt;int&gt;</th></tr>\n",
       "</thead>\n",
       "<tbody>\n",
       "\t<tr><td>type1</td><td>2</td></tr>\n",
       "\t<tr><td>type2</td><td>2</td></tr>\n",
       "</tbody>\n",
       "</table>\n"
      ],
      "text/latex": [
       "A data.frame: 2 × 2\n",
       "\\begin{tabular}{ll}\n",
       " Var1 & Freq\\\\\n",
       " <fct> & <int>\\\\\n",
       "\\hline\n",
       "\t type1 & 2\\\\\n",
       "\t type2 & 2\\\\\n",
       "\\end{tabular}\n"
      ],
      "text/markdown": [
       "\n",
       "A data.frame: 2 × 2\n",
       "\n",
       "| Var1 &lt;fct&gt; | Freq &lt;int&gt; |\n",
       "|---|---|\n",
       "| type1 | 2 |\n",
       "| type2 | 2 |\n",
       "\n"
      ],
      "text/plain": [
       "  Var1  Freq\n",
       "1 type1 2   \n",
       "2 type2 2   "
      ]
     },
     "metadata": {},
     "output_type": "display_data"
    }
   ],
   "source": [
    "data.frame(table(patientdata$diabetes))"
   ]
  },
  {
   "cell_type": "code",
   "execution_count": 158,
   "metadata": {
    "vscode": {
     "languageId": "r"
    }
   },
   "outputs": [
    {
     "data": {
      "text/html": [
       "<table class=\"dataframe\">\n",
       "<caption>A data.frame: 3 × 2</caption>\n",
       "<thead>\n",
       "\t<tr><th></th><th scope=col>patientid</th><th scope=col>age</th></tr>\n",
       "\t<tr><th></th><th scope=col>&lt;dbl&gt;</th><th scope=col>&lt;dbl&gt;</th></tr>\n",
       "</thead>\n",
       "<tbody>\n",
       "\t<tr><th scope=row>1</th><td> 1</td><td>22</td></tr>\n",
       "\t<tr><th scope=row>2</th><td> 3</td><td> 3</td></tr>\n",
       "\t<tr><th scope=row>3</th><td>NA</td><td>45</td></tr>\n",
       "</tbody>\n",
       "</table>\n"
      ],
      "text/latex": [
       "A data.frame: 3 × 2\n",
       "\\begin{tabular}{r|ll}\n",
       "  & patientid & age\\\\\n",
       "  & <dbl> & <dbl>\\\\\n",
       "\\hline\n",
       "\t1 &  1 & 22\\\\\n",
       "\t2 &  3 &  3\\\\\n",
       "\t3 & NA & 45\\\\\n",
       "\\end{tabular}\n"
      ],
      "text/markdown": [
       "\n",
       "A data.frame: 3 × 2\n",
       "\n",
       "| <!--/--> | patientid &lt;dbl&gt; | age &lt;dbl&gt; |\n",
       "|---|---|---|\n",
       "| 1 |  1 | 22 |\n",
       "| 2 |  3 |  3 |\n",
       "| 3 | NA | 45 |\n",
       "\n"
      ],
      "text/plain": [
       "  patientid age\n",
       "1  1        22 \n",
       "2  3         3 \n",
       "3 NA        45 "
      ]
     },
     "metadata": {},
     "output_type": "display_data"
    }
   ],
   "source": [
    "patientdata[1:3,1:2]"
   ]
  },
  {
   "cell_type": "code",
   "execution_count": 159,
   "metadata": {
    "vscode": {
     "languageId": "r"
    }
   },
   "outputs": [
    {
     "data": {
      "text/html": [
       "<table class=\"dataframe\">\n",
       "<caption>A data.frame: 2 × 4</caption>\n",
       "<thead>\n",
       "\t<tr><th></th><th scope=col>patientid</th><th scope=col>age</th><th scope=col>diabetes</th><th scope=col>status</th></tr>\n",
       "\t<tr><th></th><th scope=col>&lt;dbl&gt;</th><th scope=col>&lt;dbl&gt;</th><th scope=col>&lt;chr&gt;</th><th scope=col>&lt;chr&gt;</th></tr>\n",
       "</thead>\n",
       "<tbody>\n",
       "\t<tr><th scope=row>3</th><td>NA</td><td>45</td><td>type1</td><td>excellent</td></tr>\n",
       "\t<tr><th scope=row>4</th><td> 5</td><td>66</td><td>type2</td><td>poor     </td></tr>\n",
       "</tbody>\n",
       "</table>\n"
      ],
      "text/latex": [
       "A data.frame: 2 × 4\n",
       "\\begin{tabular}{r|llll}\n",
       "  & patientid & age & diabetes & status\\\\\n",
       "  & <dbl> & <dbl> & <chr> & <chr>\\\\\n",
       "\\hline\n",
       "\t3 & NA & 45 & type1 & excellent\\\\\n",
       "\t4 &  5 & 66 & type2 & poor     \\\\\n",
       "\\end{tabular}\n"
      ],
      "text/markdown": [
       "\n",
       "A data.frame: 2 × 4\n",
       "\n",
       "| <!--/--> | patientid &lt;dbl&gt; | age &lt;dbl&gt; | diabetes &lt;chr&gt; | status &lt;chr&gt; |\n",
       "|---|---|---|---|---|\n",
       "| 3 | NA | 45 | type1 | excellent |\n",
       "| 4 |  5 | 66 | type2 | poor      |\n",
       "\n"
      ],
      "text/plain": [
       "  patientid age diabetes status   \n",
       "3 NA        45  type1    excellent\n",
       "4  5        66  type2    poor     "
      ]
     },
     "metadata": {},
     "output_type": "display_data"
    }
   ],
   "source": [
    "subset(patientdata,age>22)"
   ]
  },
  {
   "cell_type": "code",
   "execution_count": 160,
   "metadata": {
    "vscode": {
     "languageId": "r"
    }
   },
   "outputs": [
    {
     "data": {
      "image/png": "[encoded data removed]",
      "text/plain": [
       "plot without title"
      ]
     },
     "metadata": {
      "image/png": {
       "height": 420,
       "width": 420
      }
     },
     "output_type": "display_data"
    }
   ],
   "source": [
    "plot(patientdata$patientid,patientdata$age)"
   ]
  },
  {
   "cell_type": "code",
   "execution_count": 161,
   "metadata": {
    "vscode": {
     "languageId": "r"
    }
   },
   "outputs": [
    {
     "data": {
      "text/plain": [
       "   patientid      age          diabetes            status         \n",
       " Min.   :1   Min.   : 3.00   Length:4           Length:4          \n",
       " 1st Qu.:2   1st Qu.:17.25   Class :character   Class :character  \n",
       " Median :3   Median :33.50   Mode  :character   Mode  :character  \n",
       " Mean   :3   Mean   :34.00                                        \n",
       " 3rd Qu.:4   3rd Qu.:50.25                                        \n",
       " Max.   :5   Max.   :66.00                                        \n",
       " NA's   :1                                                        "
      ]
     },
     "metadata": {},
     "output_type": "display_data"
    }
   ],
   "source": [
    "summary(patientdata)"
   ]
  },
  {
   "cell_type": "code",
   "execution_count": 162,
   "metadata": {
    "vscode": {
     "languageId": "r"
    }
   },
   "outputs": [
    {
     "name": "stdout",
     "output_type": "stream",
     "text": [
      "   Min. 1st Qu.  Median    Mean 3rd Qu.    Max. \n",
      "   3.00   17.25   33.50   34.00   50.25   66.00 \n"
     ]
    },
    {
     "data": {
      "image/png": "[encoded data removed]",
      "text/plain": [
       "plot without title"
      ]
     },
     "metadata": {
      "image/png": {
       "height": 420,
       "width": 420
      }
     },
     "output_type": "display_data"
    }
   ],
   "source": [
    "with(patientdata,{\n",
    "    print(summary(age))\n",
    "    plot(patientid,age)\n",
    "})"
   ]
  },
  {
   "cell_type": "code",
   "execution_count": 163,
   "metadata": {
    "vscode": {
     "languageId": "r"
    }
   },
   "outputs": [],
   "source": [
    "# edit(patientdata)"
   ]
  },
  {
   "cell_type": "code",
   "execution_count": 164,
   "metadata": {
    "vscode": {
     "languageId": "r"
    }
   },
   "outputs": [],
   "source": [
    "write.csv(patientdata,'csvwritetest.csv',row.names=FALSE)"
   ]
  },
  {
   "cell_type": "code",
   "execution_count": 165,
   "metadata": {
    "vscode": {
     "languageId": "r"
    }
   },
   "outputs": [
    {
     "data": {
      "text/html": [
       "<table class=\"dataframe\">\n",
       "<caption>A data.frame: 4 × 4</caption>\n",
       "<thead>\n",
       "\t<tr><th scope=col>patientid</th><th scope=col>age</th><th scope=col>diabetes</th><th scope=col>status</th></tr>\n",
       "\t<tr><th scope=col>&lt;dbl&gt;</th><th scope=col>&lt;dbl&gt;</th><th scope=col>&lt;chr&gt;</th><th scope=col>&lt;chr&gt;</th></tr>\n",
       "</thead>\n",
       "<tbody>\n",
       "\t<tr><td> 1</td><td>22</td><td>type1</td><td>poor     </td></tr>\n",
       "\t<tr><td> 3</td><td> 3</td><td>type2</td><td>improved </td></tr>\n",
       "\t<tr><td>NA</td><td>45</td><td>type1</td><td>excellent</td></tr>\n",
       "\t<tr><td> 5</td><td>66</td><td>type2</td><td>poor     </td></tr>\n",
       "</tbody>\n",
       "</table>\n"
      ],
      "text/latex": [
       "A data.frame: 4 × 4\n",
       "\\begin{tabular}{llll}\n",
       " patientid & age & diabetes & status\\\\\n",
       " <dbl> & <dbl> & <chr> & <chr>\\\\\n",
       "\\hline\n",
       "\t  1 & 22 & type1 & poor     \\\\\n",
       "\t  3 &  3 & type2 & improved \\\\\n",
       "\t NA & 45 & type1 & excellent\\\\\n",
       "\t  5 & 66 & type2 & poor     \\\\\n",
       "\\end{tabular}\n"
      ],
      "text/markdown": [
       "\n",
       "A data.frame: 4 × 4\n",
       "\n",
       "| patientid &lt;dbl&gt; | age &lt;dbl&gt; | diabetes &lt;chr&gt; | status &lt;chr&gt; |\n",
       "|---|---|---|---|\n",
       "|  1 | 22 | type1 | poor      |\n",
       "|  3 |  3 | type2 | improved  |\n",
       "| NA | 45 | type1 | excellent |\n",
       "|  5 | 66 | type2 | poor      |\n",
       "\n"
      ],
      "text/plain": [
       "  patientid age diabetes status   \n",
       "1  1        22  type1    poor     \n",
       "2  3         3  type2    improved \n",
       "3 NA        45  type1    excellent\n",
       "4  5        66  type2    poor     "
      ]
     },
     "metadata": {},
     "output_type": "display_data"
    },
    {
     "data": {
      "text/html": [
       "<style>\n",
       ".list-inline {list-style: none; margin:0; padding: 0}\n",
       ".list-inline>li {display: inline-block}\n",
       ".list-inline>li:not(:last-child)::after {content: \"\\00b7\"; padding: 0 .5ex}\n",
       "</style>\n",
       "<ol class=list-inline><li>'patientid'</li><li>'age'</li><li>'diabetes'</li><li>'status'</li><li>'1'</li><li>'22'</li><li>'type1'</li><li>'poor'</li><li>'3'</li><li>'3'</li><li>'type2'</li><li>'improved'</li><li>NA</li><li>'45'</li><li>'type1'</li><li>'excellent'</li><li>'5'</li><li>'66'</li><li>'type2'</li><li>'poor'</li></ol>\n"
      ],
      "text/latex": [
       "\\begin{enumerate*}\n",
       "\\item 'patientid'\n",
       "\\item 'age'\n",
       "\\item 'diabetes'\n",
       "\\item 'status'\n",
       "\\item '1'\n",
       "\\item '22'\n",
       "\\item 'type1'\n",
       "\\item 'poor'\n",
       "\\item '3'\n",
       "\\item '3'\n",
       "\\item 'type2'\n",
       "\\item 'improved'\n",
       "\\item NA\n",
       "\\item '45'\n",
       "\\item 'type1'\n",
       "\\item 'excellent'\n",
       "\\item '5'\n",
       "\\item '66'\n",
       "\\item 'type2'\n",
       "\\item 'poor'\n",
       "\\end{enumerate*}\n"
      ],
      "text/markdown": [
       "1. 'patientid'\n",
       "2. 'age'\n",
       "3. 'diabetes'\n",
       "4. 'status'\n",
       "5. '1'\n",
       "6. '22'\n",
       "7. 'type1'\n",
       "8. 'poor'\n",
       "9. '3'\n",
       "10. '3'\n",
       "11. 'type2'\n",
       "12. 'improved'\n",
       "13. NA\n",
       "14. '45'\n",
       "15. 'type1'\n",
       "16. 'excellent'\n",
       "17. '5'\n",
       "18. '66'\n",
       "19. 'type2'\n",
       "20. 'poor'\n",
       "\n",
       "\n"
      ],
      "text/plain": [
       " [1] \"patientid\" \"age\"       \"diabetes\"  \"status\"    \"1\"         \"22\"       \n",
       " [7] \"type1\"     \"poor\"      \"3\"         \"3\"         \"type2\"     \"improved\" \n",
       "[13] NA          \"45\"        \"type1\"     \"excellent\" \"5\"         \"66\"       \n",
       "[19] \"type2\"     \"poor\"     "
      ]
     },
     "metadata": {},
     "output_type": "display_data"
    }
   ],
   "source": [
    "tempdata=read.table('csvwritetest.csv',header = TRUE,sep = ',',colClasses = c('numeric','numeric','character','character'))\n",
    "tempdata\n",
    "a=scan('csvwritetest.csv',sep = ',',what = 'character')\n",
    "a"
   ]
  },
  {
   "cell_type": "code",
   "execution_count": 166,
   "metadata": {
    "vscode": {
     "languageId": "r"
    }
   },
   "outputs": [
    {
     "data": {
      "text/html": [
       "<table class=\"dataframe\">\n",
       "<caption>A data.frame: 4 × 4</caption>\n",
       "<thead>\n",
       "\t<tr><th></th><th scope=col>patientid</th><th scope=col>age</th><th scope=col>diabetes</th><th scope=col>status</th></tr>\n",
       "\t<tr><th></th><th scope=col>&lt;dbl&gt;</th><th scope=col>&lt;dbl&gt;</th><th scope=col>&lt;chr&gt;</th><th scope=col>&lt;chr&gt;</th></tr>\n",
       "</thead>\n",
       "<tbody>\n",
       "\t<tr><th scope=row>2</th><td> 3</td><td> 3</td><td>type2</td><td>improved </td></tr>\n",
       "\t<tr><th scope=row>1</th><td> 1</td><td>22</td><td>type1</td><td>poor     </td></tr>\n",
       "\t<tr><th scope=row>3</th><td>NA</td><td>45</td><td>type1</td><td>excellent</td></tr>\n",
       "\t<tr><th scope=row>4</th><td> 5</td><td>66</td><td>type2</td><td>poor     </td></tr>\n",
       "</tbody>\n",
       "</table>\n"
      ],
      "text/latex": [
       "A data.frame: 4 × 4\n",
       "\\begin{tabular}{r|llll}\n",
       "  & patientid & age & diabetes & status\\\\\n",
       "  & <dbl> & <dbl> & <chr> & <chr>\\\\\n",
       "\\hline\n",
       "\t2 &  3 &  3 & type2 & improved \\\\\n",
       "\t1 &  1 & 22 & type1 & poor     \\\\\n",
       "\t3 & NA & 45 & type1 & excellent\\\\\n",
       "\t4 &  5 & 66 & type2 & poor     \\\\\n",
       "\\end{tabular}\n"
      ],
      "text/markdown": [
       "\n",
       "A data.frame: 4 × 4\n",
       "\n",
       "| <!--/--> | patientid &lt;dbl&gt; | age &lt;dbl&gt; | diabetes &lt;chr&gt; | status &lt;chr&gt; |\n",
       "|---|---|---|---|---|\n",
       "| 2 |  3 |  3 | type2 | improved  |\n",
       "| 1 |  1 | 22 | type1 | poor      |\n",
       "| 3 | NA | 45 | type1 | excellent |\n",
       "| 4 |  5 | 66 | type2 | poor      |\n",
       "\n"
      ],
      "text/plain": [
       "  patientid age diabetes status   \n",
       "2  3         3  type2    improved \n",
       "1  1        22  type1    poor     \n",
       "3 NA        45  type1    excellent\n",
       "4  5        66  type2    poor     "
      ]
     },
     "metadata": {},
     "output_type": "display_data"
    }
   ],
   "source": [
    "tempdata[order(tempdata$age),]"
   ]
  },
  {
   "cell_type": "code",
   "execution_count": 167,
   "metadata": {
    "vscode": {
     "languageId": "r"
    }
   },
   "outputs": [
    {
     "data": {
      "text/html": [
       "'hey'"
      ],
      "text/latex": [
       "'hey'"
      ],
      "text/markdown": [
       "'hey'"
      ],
      "text/plain": [
       "[1] \"hey\""
      ]
     },
     "metadata": {},
     "output_type": "display_data"
    }
   ],
   "source": [
    "var = readline();\n",
    "var"
   ]
  },
  {
   "cell_type": "code",
   "execution_count": 171,
   "metadata": {
    "vscode": {
     "languageId": "r"
    }
   },
   "outputs": [
    {
     "data": {
      "text/html": [],
      "text/latex": [],
      "text/markdown": [],
      "text/plain": [
       "character(0)"
      ]
     },
     "metadata": {},
     "output_type": "display_data"
    }
   ],
   "source": [
    "var2 = scan(what='character')\n",
    "var2"
   ]
  },
  {
   "cell_type": "code",
   "execution_count": null,
   "metadata": {
    "vscode": {
     "languageId": "r"
    }
   },
   "outputs": [],
   "source": []
  }
 ],
 "metadata": {
  "kernelspec": {
   "display_name": "R",
   "language": "R",
   "name": "ir"
  },
  "language_info": {
   "name": "R"
  },
  "orig_nbformat": 4
 },
 "nbformat": 4,
 "nbformat_minor": 2
}
