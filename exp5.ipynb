{
 "cells": [
  {
   "attachments": {},
   "cell_type": "markdown",
   "metadata": {},
   "source": [
    "write a program  to perform the following tasks\n",
    "- 1)check if the data is normally distributed\n",
    "- 2)implement a program to check variance,covariance,and correlation between various attributes.get all three correlation\n",
    "- 3)display the patterns which spans across the columns and the input should be taken from the file"
   ]
  },
  {
   "cell_type": "code",
   "execution_count": 74,
   "metadata": {
    "vscode": {
     "languageId": "r"
    }
   },
   "outputs": [
    {
     "data": {
      "text/html": [
       "<table class=\"dataframe\">\n",
       "<caption>A data.frame: 9 × 3</caption>\n",
       "<thead>\n",
       "\t<tr><th scope=col>age</th><th scope=col>height</th><th scope=col>weight</th></tr>\n",
       "\t<tr><th scope=col>&lt;int&gt;</th><th scope=col>&lt;int&gt;</th><th scope=col>&lt;int&gt;</th></tr>\n",
       "</thead>\n",
       "<tbody>\n",
       "\t<tr><td> 2</td><td> 66</td><td> 5</td></tr>\n",
       "\t<tr><td> 3</td><td> 68</td><td> 7</td></tr>\n",
       "\t<tr><td> 4</td><td> 88</td><td>12</td></tr>\n",
       "\t<tr><td> 5</td><td>100</td><td>14</td></tr>\n",
       "\t<tr><td> 6</td><td>120</td><td>23</td></tr>\n",
       "\t<tr><td> 7</td><td>180</td><td>44</td></tr>\n",
       "\t<tr><td>22</td><td>200</td><td>55</td></tr>\n",
       "\t<tr><td>23</td><td>188</td><td>83</td></tr>\n",
       "\t<tr><td>25</td><td>178</td><td>77</td></tr>\n",
       "</tbody>\n",
       "</table>\n"
      ],
      "text/latex": [
       "A data.frame: 9 × 3\n",
       "\\begin{tabular}{lll}\n",
       " age & height & weight\\\\\n",
       " <int> & <int> & <int>\\\\\n",
       "\\hline\n",
       "\t  2 &  66 &  5\\\\\n",
       "\t  3 &  68 &  7\\\\\n",
       "\t  4 &  88 & 12\\\\\n",
       "\t  5 & 100 & 14\\\\\n",
       "\t  6 & 120 & 23\\\\\n",
       "\t  7 & 180 & 44\\\\\n",
       "\t 22 & 200 & 55\\\\\n",
       "\t 23 & 188 & 83\\\\\n",
       "\t 25 & 178 & 77\\\\\n",
       "\\end{tabular}\n"
      ],
      "text/markdown": [
       "\n",
       "A data.frame: 9 × 3\n",
       "\n",
       "| age &lt;int&gt; | height &lt;int&gt; | weight &lt;int&gt; |\n",
       "|---|---|---|\n",
       "|  2 |  66 |  5 |\n",
       "|  3 |  68 |  7 |\n",
       "|  4 |  88 | 12 |\n",
       "|  5 | 100 | 14 |\n",
       "|  6 | 120 | 23 |\n",
       "|  7 | 180 | 44 |\n",
       "| 22 | 200 | 55 |\n",
       "| 23 | 188 | 83 |\n",
       "| 25 | 178 | 77 |\n",
       "\n"
      ],
      "text/plain": [
       "  age height weight\n",
       "1  2   66     5    \n",
       "2  3   68     7    \n",
       "3  4   88    12    \n",
       "4  5  100    14    \n",
       "5  6  120    23    \n",
       "6  7  180    44    \n",
       "7 22  200    55    \n",
       "8 23  188    83    \n",
       "9 25  178    77    "
      ]
     },
     "metadata": {},
     "output_type": "display_data"
    },
    {
     "name": "stdout",
     "output_type": "stream",
     "text": [
      "[1] \"age    NOT NORMAL p-value:  0.010036870989254\"\n",
      "[1] \"height    NORMAL p-value:  0.113834382069882\"\n",
      "[1] \"weight    NORMAL p-value:  0.126695245799011\"\n"
     ]
    }
   ],
   "source": [
    "df=read.table('exp5.txt',header=TRUE)\n",
    "df[2:length(df)]\n",
    "for (i in 2:length(df)){\n",
    "    a= shapiro.test(df[[i]])$p.value\n",
    "    if(a>0.05){\n",
    "        print(paste(colnames(df)[i],'   NORMAL','p-value: ',a))\n",
    "    }\n",
    "    else{\n",
    "        print(paste(colnames(df)[i],'   NOT NORMAL','p-value: ',a))\n",
    "    }\n",
    "\n",
    "\n",
    "}"
   ]
  },
  {
   "cell_type": "code",
   "execution_count": 50,
   "metadata": {
    "vscode": {
     "languageId": "r"
    }
   },
   "outputs": [
    {
     "name": "stdout",
     "output_type": "stream",
     "text": [
      "       age     height     weight \n",
      "  91.44444 2967.00000  918.02778 \n"
     ]
    }
   ],
   "source": [
    "print(apply(df[2:length(df)],2,var))"
   ]
  },
  {
   "cell_type": "code",
   "execution_count": 81,
   "metadata": {
    "vscode": {
     "languageId": "r"
    }
   },
   "outputs": [
    {
     "name": "stdout",
     "output_type": "stream",
     "text": [
      "[1] \"covariance\"\n",
      "[1] \"age height\"\n",
      "[1] \"  442.25\"\n",
      "[1] \"age weight\"\n",
      "[1] \"  273.763888888889\"\n",
      "[1] \"height weight\"\n",
      "[1] \"  1501.5\"\n"
     ]
    }
   ],
   "source": [
    "print('covariance')\n",
    "for (i in 2:length(df)){\n",
    "    for(j in i:length(df)){\n",
    "        if (i!=j){\n",
    "            print(paste(colnames(df)[i],colnames(df)[j]))\n",
    "            print(paste(' ',cov(df[[i]],df[[j]])))\n",
    "        }\n",
    "    }\n",
    "}"
   ]
  },
  {
   "cell_type": "code",
   "execution_count": 76,
   "metadata": {
    "vscode": {
     "languageId": "r"
    }
   },
   "outputs": [
    {
     "name": "stdout",
     "output_type": "stream",
     "text": [
      "[1] \"correlation\"\n",
      "[1] \"correlation between  age & height\"\n",
      "[1] \"   spearman 0.883333333333333\"\n",
      "[1] \"   pearson  0.84904440716805\"\n",
      "[1] \"   kendall  0.777777777777778\"\n",
      "[1] \"correlation between  age & weight\"\n",
      "[1] \"   spearman 0.983333333333333\"\n",
      "[1] \"   pearson  0.944864620246373\"\n",
      "[1] \"   kendall  0.944444444444445\"\n",
      "[1] \"correlation between  height & weight\"\n",
      "[1] \"   spearman 0.916666666666667\"\n",
      "[1] \"   pearson  0.909784748726708\"\n",
      "[1] \"   kendall  0.833333333333333\"\n"
     ]
    }
   ],
   "source": [
    "print('correlation')\n",
    "for (i in 2:length(df)){\n",
    "    for(j in i:length(df)){\n",
    "        if (i!=j){\n",
    "            print(paste('correlation between ',colnames(df)[i],'&',colnames(df)[j]))\n",
    "            print(paste('   spearman',cor(df[[i]],df[[j]],method = \"spearman\")))\n",
    "            print(paste('   pearson ',cor(df[[i]],df[[j]],method = \"pearson\")))\n",
    "            print(paste('   kendall ',cor(df[[i]],df[[j]],method = \"kendall\")))\n",
    "\n",
    "\n",
    "        }\n",
    "    }\n",
    "}"
   ]
  },
  {
   "cell_type": "code",
   "execution_count": 98,
   "metadata": {
    "vscode": {
     "languageId": "r"
    }
   },
   "outputs": [
    {
     "name": "stdout",
     "output_type": "stream",
     "text": [
      "[1] \"2,66,5\"\n",
      "[1] \"3,68,7\"\n",
      "[1] \"4,88,12\"\n",
      "[1] \"5,100,14\"\n",
      "[1] \"6,120,23\"\n",
      "[1] \"7,180,44\"\n",
      "[1] \"22,200,55\"\n",
      "[1] \"23,188,83\"\n",
      "[1] \"25,178,77\"\n"
     ]
    }
   ],
   "source": [
    "kapply=apply(df[2:length(df)], MARGIN=1, FUN=paste, collapse=',')\n",
    "for (i in kapply){\n",
    "    \n",
    "}"
   ]
  },
  {
   "cell_type": "code",
   "execution_count": null,
   "metadata": {
    "vscode": {
     "languageId": "r"
    }
   },
   "outputs": [],
   "source": []
  }
 ],
 "metadata": {
  "kernelspec": {
   "display_name": "R",
   "language": "R",
   "name": "ir"
  },
  "language_info": {
   "codemirror_mode": "r",
   "file_extension": ".r",
   "mimetype": "text/x-r-source",
   "name": "R",
   "pygments_lexer": "r",
   "version": "4.2.2"
  },
  "orig_nbformat": 4
 },
 "nbformat": 4,
 "nbformat_minor": 2
}
