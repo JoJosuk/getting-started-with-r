{
 "cells": [
  {
   "cell_type": "code",
   "execution_count": 3,
   "metadata": {
    "vscode": {
     "languageId": "r"
    }
   },
   "outputs": [
    {
     "name": "stdout",
     "output_type": "stream",
     "text": [
      "[1] \"hey\"\n"
     ]
    }
   ],
   "source": [
    "print('hey')"
   ]
  },
  {
   "cell_type": "code",
   "execution_count": 4,
   "metadata": {
    "vscode": {
     "languageId": "r"
    }
   },
   "outputs": [
    {
     "name": "stdout",
     "output_type": "stream",
     "text": [
      "[1] \"stats\"     \"graphics\"  \"grDevices\" \"utils\"     \"datasets\"  \"methods\"  \n",
      "[7] \"base\"     \n",
      " [1] \"backports\"      \"base64enc\"      \"brew\"           \"callr\"         \n",
      " [5] \"cli\"            \"collections\"    \"commonmark\"     \"cpp11\"         \n",
      " [9] \"crayon\"         \"cyclocomp\"      \"desc\"           \"digest\"        \n",
      "[13] \"ellipsis\"       \"evaluate\"       \"fansi\"          \"fastmap\"       \n",
      "[17] \"fs\"             \"glue\"           \"highr\"          \"htmltools\"     \n",
      "[21] \"IRdisplay\"      \"IRkernel\"       \"jsonlite\"       \"knitr\"         \n",
      "[25] \"languageserver\" \"lazyeval\"       \"lifecycle\"      \"lintr\"         \n",
      "[29] \"magrittr\"       \"pbdZMQ\"         \"pillar\"         \"pkgload\"       \n",
      "[33] \"processx\"       \"ps\"             \"purrr\"          \"R.cache\"       \n",
      "[37] \"R.methodsS3\"    \"R.oo\"           \"R.utils\"        \"R6\"            \n",
      "[41] \"remotes\"        \"repr\"           \"rex\"            \"rlang\"         \n",
      "[45] \"roxygen2\"       \"rprojroot\"      \"stringr\"        \"styler\"        \n",
      "[49] \"utf8\"           \"uuid\"           \"vctrs\"          \"withr\"         \n",
      "[53] \"xfun\"           \"xml2\"           \"xmlparsedata\"   \"yaml\"          \n",
      "[57] \"base\"           \"boot\"           \"class\"          \"cluster\"       \n",
      "[61] \"codetools\"      \"compiler\"       \"datasets\"       \"foreign\"       \n",
      "[65] \"graphics\"       \"grDevices\"      \"grid\"           \"KernSmooth\"    \n",
      "[69] \"lattice\"        \"MASS\"           \"Matrix\"         \"methods\"       \n",
      "[73] \"mgcv\"           \"nlme\"           \"nnet\"           \"parallel\"      \n",
      "[77] \"rpart\"          \"spatial\"        \"splines\"        \"stats\"         \n",
      "[81] \"stats4\"         \"survival\"       \"tcltk\"          \"tools\"         \n",
      "[85] \"translations\"   \"utils\"         \n"
     ]
    }
   ],
   "source": [
    "print(.packages())\n",
    "print(.packages(all.available=TRUE))"
   ]
  },
  {
   "cell_type": "code",
   "execution_count": 5,
   "metadata": {
    "vscode": {
     "languageId": "r"
    }
   },
   "outputs": [
    {
     "name": "stdout",
     "output_type": "stream",
     "text": [
      "[1] TRUE\n",
      "[1] 4\n",
      "[1] 3.141593\n",
      " [1] \"a\" \"b\" \"c\" \"d\" \"e\" \"f\" \"g\" \"h\" \"i\" \"j\" \"k\" \"l\" \"m\" \"n\" \"o\" \"p\" \"q\" \"r\" \"s\"\n",
      "[20] \"t\" \"u\" \"v\" \"w\" \"x\" \"y\" \"z\"\n",
      " [1] \"A\" \"B\" \"C\" \"D\" \"E\" \"F\" \"G\" \"H\" \"I\" \"J\" \"K\" \"L\" \"M\" \"N\" \"O\" \"P\" \"Q\" \"R\" \"S\"\n",
      "[20] \"T\" \"U\" \"V\" \"W\" \"X\" \"Y\" \"Z\"\n"
     ]
    },
    {
     "data": {
      "text/html": [
       "'double'"
      ],
      "text/latex": [
       "'double'"
      ],
      "text/markdown": [
       "'double'"
      ],
      "text/plain": [
       "[1] \"double\""
      ]
     },
     "metadata": {},
     "output_type": "display_data"
    },
    {
     "data": {
      "text/html": [
       "FALSE"
      ],
      "text/latex": [
       "FALSE"
      ],
      "text/markdown": [
       "FALSE"
      ],
      "text/plain": [
       "[1] FALSE"
      ]
     },
     "metadata": {},
     "output_type": "display_data"
    },
    {
     "data": {
      "text/html": [],
      "text/latex": [],
      "text/markdown": [],
      "text/plain": [
       "integer(0)"
      ]
     },
     "metadata": {},
     "output_type": "display_data"
    }
   ],
   "source": [
    "hey.what=TRUE\n",
    "print(hey.what)\n",
    "hey =4\n",
    "hey.shey='arr'\n",
    "print(hey)\n",
    "print(pi)\n",
    "print(letters)\n",
    "print(LETTERS)\n",
    "typeof(hey)\n",
    "is.integer(hey)\n",
    "as.integer()"
   ]
  },
  {
   "cell_type": "code",
   "execution_count": 6,
   "metadata": {
    "vscode": {
     "languageId": "r"
    }
   },
   "outputs": [
    {
     "name": "stdout",
     "output_type": "stream",
     "text": [
      " [1]  1  2  4  4  5  5  6  7 NA NA NA NA NA NA\n"
     ]
    }
   ],
   "source": [
    "v <- c(1,2,4,4,5,5,6,7)\n",
    "length(v)=14\n",
    "print(v)"
   ]
  },
  {
   "cell_type": "code",
   "execution_count": 7,
   "metadata": {
    "vscode": {
     "languageId": "r"
    }
   },
   "outputs": [
    {
     "data": {
      "text/html": [
       "Inf"
      ],
      "text/latex": [
       "Inf"
      ],
      "text/markdown": [
       "Inf"
      ],
      "text/plain": [
       "[1] Inf"
      ]
     },
     "metadata": {},
     "output_type": "display_data"
    },
    {
     "data": {
      "text/html": [
       "-Inf"
      ],
      "text/latex": [
       "-Inf"
      ],
      "text/markdown": [
       "-Inf"
      ],
      "text/plain": [
       "[1] -Inf"
      ]
     },
     "metadata": {},
     "output_type": "display_data"
    },
    {
     "data": {
      "text/html": [
       "Inf"
      ],
      "text/latex": [
       "Inf"
      ],
      "text/markdown": [
       "Inf"
      ],
      "text/plain": [
       "[1] Inf"
      ]
     },
     "metadata": {},
     "output_type": "display_data"
    },
    {
     "name": "stdout",
     "output_type": "stream",
     "text": [
      " [1]  1  2  3  4  5  6  7  8  9 10 11 12\n"
     ]
    }
   ],
   "source": [
    "2^1024\n",
    "-2^1024\n",
    "1/0\n",
    "print(1:12)"
   ]
  },
  {
   "cell_type": "code",
   "execution_count": 8,
   "metadata": {
    "vscode": {
     "languageId": "r"
    }
   },
   "outputs": [
    {
     "name": "stdout",
     "output_type": "stream",
     "text": [
      " [1]  1  2  3  4  5  6  7  8  9 10 11 12\n",
      "[1] 1 2 3 4\n"
     ]
    }
   ],
   "source": [
    "assign('x',1:12)\n",
    "print(x)\n",
    "print(x[1:4])"
   ]
  },
  {
   "cell_type": "code",
   "execution_count": 9,
   "metadata": {
    "vscode": {
     "languageId": "r"
    }
   },
   "outputs": [
    {
     "name": "stdout",
     "output_type": "stream",
     "text": [
      "[1] 4 5 6 7\n",
      " [1] FALSE FALSE FALSE FALSE FALSE FALSE FALSE FALSE  TRUE  TRUE  TRUE  TRUE\n"
     ]
    }
   ],
   "source": [
    "print(x[(x>3)&(x<8)])\n",
    "print(x>8)"
   ]
  },
  {
   "cell_type": "code",
   "execution_count": 1,
   "metadata": {
    "vscode": {
     "languageId": "r"
    }
   },
   "outputs": [
    {
     "data": {
      "image/png": "[encoded data removed]",
      "text/plain": [
       "Plot with title \"my first plot\""
      ]
     },
     "metadata": {
      "image/png": {
       "height": 420,
       "width": 420
      }
     },
     "output_type": "display_data"
    }
   ],
   "source": [
    "a1=c(1,3,4,6,6,7,23)\n",
    "a2=c(2,34,5,6,2,42,44)\n",
    "plot(a1, a2)\n",
    "title(\"my first plot\")"
   ]
  },
  {
   "cell_type": "code",
   "execution_count": 10,
   "metadata": {
    "vscode": {
     "languageId": "r"
    }
   },
   "outputs": [
    {
     "name": "stdout",
     "output_type": "stream",
     "text": [
      "[1] 12 14 12 14 12 14\n",
      "[1] 240 280 240 280 240 280\n",
      "[[1]]\n",
      "[1] 240 280 240 280 240 280\n",
      "\n"
     ]
    },
    {
     "data": {
      "text/html": [
       "'list'"
      ],
      "text/latex": [
       "'list'"
      ],
      "text/markdown": [
       "'list'"
      ],
      "text/plain": [
       "[1] \"list\""
      ]
     },
     "metadata": {},
     "output_type": "display_data"
    }
   ],
   "source": [
    "stri=rep(c(12,14),times=3)\n",
    "print(stri)\n",
    "stri=stri*20\n",
    "print(stri)\n",
    "stri=list(stri)\n",
    "print(stri)\n",
    "typeof(stri)"
   ]
  },
  {
   "attachments": {},
   "cell_type": "markdown",
   "metadata": {},
   "source": [
    "initializing vector"
   ]
  },
  {
   "cell_type": "code",
   "execution_count": 22,
   "metadata": {
    "vscode": {
     "languageId": "r"
    }
   },
   "outputs": [
    {
     "name": "stdout",
     "output_type": "stream",
     "text": [
      "[1] 1\n"
     ]
    }
   ],
   "source": [
    "xaa<-vector('character',length = 4)\n",
    "xaa[2]='hey how are you'\n",
    "print(length(xaa[2]))\n"
   ]
  },
  {
   "cell_type": "code",
   "execution_count": 26,
   "metadata": {
    "vscode": {
     "languageId": "r"
    }
   },
   "outputs": [
    {
     "name": "stdout",
     "output_type": "stream",
     "text": [
      " [1]  1  2  3  4  5  0  3 54  5  5  4  2\n",
      " [1]  2  4  4  6  6  2  4 56  6  7  5  4\n"
     ]
    }
   ],
   "source": [
    "a=c(1,2,3,4,5)\n",
    "b=c(3,54,5,5,4,2)\n",
    "c<-c(a,0,b)\n",
    "print(c)\n"
   ]
  },
  {
   "attachments": {},
   "cell_type": "markdown",
   "metadata": {},
   "source": [
    "longer object length is not a multiple of shorter object length"
   ]
  },
  {
   "cell_type": "code",
   "execution_count": 27,
   "metadata": {
    "vscode": {
     "languageId": "r"
    }
   },
   "outputs": [
    {
     "name": "stdout",
     "output_type": "stream",
     "text": [
      " [1]  1  2  3  4  5  0  3 54  5  5  4  2\n",
      " [1]  2  4  4  6  6  2  4 56  6  7  5  4\n"
     ]
    }
   ],
   "source": [
    "print(c)\n",
    "print(c+c(1,2))"
   ]
  }
 ],
 "metadata": {
  "kernelspec": {
   "display_name": "R",
   "language": "R",
   "name": "ir"
  },
  "language_info": {
   "codemirror_mode": "r",
   "file_extension": ".r",
   "mimetype": "text/x-r-source",
   "name": "R",
   "pygments_lexer": "r",
   "version": "4.2.3"
  },
  "orig_nbformat": 4
 },
 "nbformat": 4,
 "nbformat_minor": 2
}
