{
 "cells": [
  {
   "cell_type": "code",
   "execution_count": 3,
   "metadata": {
    "vscode": {
     "languageId": "r"
    }
   },
   "outputs": [
    {
     "name": "stdout",
     "output_type": "stream",
     "text": [
      "[1] \"hey\"\n"
     ]
    }
   ],
   "source": [
    "print('hey')"
   ]
  },
  {
   "cell_type": "code",
   "execution_count": 4,
   "metadata": {
    "vscode": {
     "languageId": "r"
    }
   },
   "outputs": [
    {
     "name": "stdout",
     "output_type": "stream",
     "text": [
      "[1] \"stats\"     \"graphics\"  \"grDevices\" \"utils\"     \"datasets\"  \"methods\"  \n",
      "[7] \"base\"     \n",
      " [1] \"backports\"      \"base64enc\"      \"brew\"           \"callr\"         \n",
      " [5] \"cli\"            \"collections\"    \"commonmark\"     \"cpp11\"         \n",
      " [9] \"crayon\"         \"cyclocomp\"      \"desc\"           \"digest\"        \n",
      "[13] \"ellipsis\"       \"evaluate\"       \"fansi\"          \"fastmap\"       \n",
      "[17] \"fs\"             \"glue\"           \"highr\"          \"htmltools\"     \n",
      "[21] \"IRdisplay\"      \"IRkernel\"       \"jsonlite\"       \"knitr\"         \n",
      "[25] \"languageserver\" \"lazyeval\"       \"lifecycle\"      \"lintr\"         \n",
      "[29] \"magrittr\"       \"pbdZMQ\"         \"pillar\"         \"pkgload\"       \n",
      "[33] \"processx\"       \"ps\"             \"purrr\"          \"R.cache\"       \n",
      "[37] \"R.methodsS3\"    \"R.oo\"           \"R.utils\"        \"R6\"            \n",
      "[41] \"remotes\"        \"repr\"           \"rex\"            \"rlang\"         \n",
      "[45] \"roxygen2\"       \"rprojroot\"      \"stringr\"        \"styler\"        \n",
      "[49] \"utf8\"           \"uuid\"           \"vctrs\"          \"withr\"         \n",
      "[53] \"xfun\"           \"xml2\"           \"xmlparsedata\"   \"yaml\"          \n",
      "[57] \"base\"           \"boot\"           \"class\"          \"cluster\"       \n",
      "[61] \"codetools\"      \"compiler\"       \"datasets\"       \"foreign\"       \n",
      "[65] \"graphics\"       \"grDevices\"      \"grid\"           \"KernSmooth\"    \n",
      "[69] \"lattice\"        \"MASS\"           \"Matrix\"         \"methods\"       \n",
      "[73] \"mgcv\"           \"nlme\"           \"nnet\"           \"parallel\"      \n",
      "[77] \"rpart\"          \"spatial\"        \"splines\"        \"stats\"         \n",
      "[81] \"stats4\"         \"survival\"       \"tcltk\"          \"tools\"         \n",
      "[85] \"translations\"   \"utils\"         \n"
     ]
    }
   ],
   "source": [
    "print(.packages())\n",
    "print(.packages(all.available=TRUE))"
   ]
  },
  {
   "cell_type": "code",
   "execution_count": 5,
   "metadata": {
    "vscode": {
     "languageId": "r"
    }
   },
   "outputs": [
    {
     "name": "stdout",
     "output_type": "stream",
     "text": [
      "[1] TRUE\n",
      "[1] 4\n",
      "[1] 3.141593\n",
      " [1] \"a\" \"b\" \"c\" \"d\" \"e\" \"f\" \"g\" \"h\" \"i\" \"j\" \"k\" \"l\" \"m\" \"n\" \"o\" \"p\" \"q\" \"r\" \"s\"\n",
      "[20] \"t\" \"u\" \"v\" \"w\" \"x\" \"y\" \"z\"\n",
      " [1] \"A\" \"B\" \"C\" \"D\" \"E\" \"F\" \"G\" \"H\" \"I\" \"J\" \"K\" \"L\" \"M\" \"N\" \"O\" \"P\" \"Q\" \"R\" \"S\"\n",
      "[20] \"T\" \"U\" \"V\" \"W\" \"X\" \"Y\" \"Z\"\n"
     ]
    },
    {
     "data": {
      "text/html": [
       "'double'"
      ],
      "text/latex": [
       "'double'"
      ],
      "text/markdown": [
       "'double'"
      ],
      "text/plain": [
       "[1] \"double\""
      ]
     },
     "metadata": {},
     "output_type": "display_data"
    },
    {
     "data": {
      "text/html": [
       "FALSE"
      ],
      "text/latex": [
       "FALSE"
      ],
      "text/markdown": [
       "FALSE"
      ],
      "text/plain": [
       "[1] FALSE"
      ]
     },
     "metadata": {},
     "output_type": "display_data"
    },
    {
     "data": {
      "text/html": [],
      "text/latex": [],
      "text/markdown": [],
      "text/plain": [
       "integer(0)"
      ]
     },
     "metadata": {},
     "output_type": "display_data"
    }
   ],
   "source": [
    "hey.what=TRUE\n",
    "print(hey.what)\n",
    "hey =4\n",
    "hey.shey='arr'\n",
    "print(hey)\n",
    "print(pi)\n",
    "print(letters)\n",
    "print(LETTERS)\n",
    "typeof(hey)\n",
    "is.integer(hey)\n",
    "as.integer()"
   ]
  },
  {
   "cell_type": "code",
   "execution_count": 6,
   "metadata": {
    "vscode": {
     "languageId": "r"
    }
   },
   "outputs": [
    {
     "name": "stdout",
     "output_type": "stream",
     "text": [
      " [1]  1  2  4  4  5  5  6  7 NA NA NA NA NA NA\n"
     ]
    }
   ],
   "source": [
    "v <- c(1,2,4,4,5,5,6,7)\n",
    "length(v)=14\n",
    "print(v)"
   ]
  },
  {
   "cell_type": "code",
   "execution_count": 7,
   "metadata": {
    "vscode": {
     "languageId": "r"
    }
   },
   "outputs": [
    {
     "data": {
      "text/html": [
       "Inf"
      ],
      "text/latex": [
       "Inf"
      ],
      "text/markdown": [
       "Inf"
      ],
      "text/plain": [
       "[1] Inf"
      ]
     },
     "metadata": {},
     "output_type": "display_data"
    },
    {
     "data": {
      "text/html": [
       "-Inf"
      ],
      "text/latex": [
       "-Inf"
      ],
      "text/markdown": [
       "-Inf"
      ],
      "text/plain": [
       "[1] -Inf"
      ]
     },
     "metadata": {},
     "output_type": "display_data"
    },
    {
     "data": {
      "text/html": [
       "Inf"
      ],
      "text/latex": [
       "Inf"
      ],
      "text/markdown": [
       "Inf"
      ],
      "text/plain": [
       "[1] Inf"
      ]
     },
     "metadata": {},
     "output_type": "display_data"
    },
    {
     "name": "stdout",
     "output_type": "stream",
     "text": [
      " [1]  1  2  3  4  5  6  7  8  9 10 11 12\n"
     ]
    }
   ],
   "source": [
    "2^1024\n",
    "-2^1024\n",
    "1/0\n",
    "print(1:12)"
   ]
  },
  {
   "cell_type": "code",
   "execution_count": 8,
   "metadata": {
    "vscode": {
     "languageId": "r"
    }
   },
   "outputs": [
    {
     "name": "stdout",
     "output_type": "stream",
     "text": [
      " [1]  1  2  3  4  5  6  7  8  9 10 11 12\n",
      "[1] 1 2 3 4\n"
     ]
    }
   ],
   "source": [
    "assign('x',1:12)\n",
    "print(x)\n",
    "print(x[1:4])"
   ]
  },
  {
   "cell_type": "code",
   "execution_count": 9,
   "metadata": {
    "vscode": {
     "languageId": "r"
    }
   },
   "outputs": [
    {
     "name": "stdout",
     "output_type": "stream",
     "text": [
      "[1] 4 5 6 7\n",
      " [1] FALSE FALSE FALSE FALSE FALSE FALSE FALSE FALSE  TRUE  TRUE  TRUE  TRUE\n"
     ]
    }
   ],
   "source": [
    "print(x[(x>3)&(x<8)])\n",
    "print(x>8)"
   ]
  },
  {
   "cell_type": "code",
   "execution_count": 1,
   "metadata": {
    "vscode": {
     "languageId": "r"
    }
   },
   "outputs": [
    {
     "data": {
      "image/png": "[encoded data removed]",
      "text/plain": [
       "Plot with title \"my first plot\""
      ]
     },
     "metadata": {
      "image/png": {
       "height": 420,
       "width": 420
      }
     },
     "output_type": "display_data"
    }
   ],
   "source": [
    "a1=c(1,3,4,6,6,7,23)\n",
    "a2=c(2,34,5,6,2,42,44)\n",
    "plot(a1, a2)\n",
    "title(\"my first plot\")"
   ]
  },
  {
   "cell_type": "code",
   "execution_count": 10,
   "metadata": {
    "vscode": {
     "languageId": "r"
    }
   },
   "outputs": [
    {
     "name": "stdout",
     "output_type": "stream",
     "text": [
      "[1] 12 14 12 14 12 14\n",
      "[1] 240 280 240 280 240 280\n",
      "[[1]]\n",
      "[1] 240 280 240 280 240 280\n",
      "\n"
     ]
    },
    {
     "data": {
      "text/html": [
       "'list'"
      ],
      "text/latex": [
       "'list'"
      ],
      "text/markdown": [
       "'list'"
      ],
      "text/plain": [
       "[1] \"list\""
      ]
     },
     "metadata": {},
     "output_type": "display_data"
    }
   ],
   "source": [
    "stri=rep(c(12,14),times=3)\n",
    "print(stri)\n",
    "stri=stri*20\n",
    "print(stri)\n",
    "stri=list(stri)\n",
    "print(stri)\n",
    "typeof(stri)"
   ]
  },
  {
   "attachments": {},
   "cell_type": "markdown",
   "metadata": {},
   "source": [
    "initializing vector"
   ]
  },
  {
   "cell_type": "code",
   "execution_count": 22,
   "metadata": {
    "vscode": {
     "languageId": "r"
    }
   },
   "outputs": [
    {
     "name": "stdout",
     "output_type": "stream",
     "text": [
      "[1] 1\n"
     ]
    }
   ],
   "source": [
    "xaa<-vector('character',length = 4)\n",
    "xaa[2]='hey how are you'\n",
    "print(length(xaa[2]))\n"
   ]
  },
  {
   "cell_type": "code",
   "execution_count": 26,
   "metadata": {
    "vscode": {
     "languageId": "r"
    }
   },
   "outputs": [
    {
     "name": "stdout",
     "output_type": "stream",
     "text": [
      " [1]  1  2  3  4  5  0  3 54  5  5  4  2\n",
      " [1]  2  4  4  6  6  2  4 56  6  7  5  4\n"
     ]
    }
   ],
   "source": [
    "a=c(1,2,3,4,5)\n",
    "b=c(3,54,5,5,4,2)\n",
    "c<-c(a,0,b)\n",
    "print(c)\n"
   ]
  },
  {
   "attachments": {},
   "cell_type": "markdown",
   "metadata": {},
   "source": [
    "longer object length is not a multiple of shorter object length"
   ]
  },
  {
   "cell_type": "code",
   "execution_count": 28,
   "metadata": {
    "vscode": {
     "languageId": "r"
    }
   },
   "outputs": [
    {
     "name": "stdout",
     "output_type": "stream",
     "text": [
      " [1]  1  2  3  4  5  0  3 54  5  5  4  2\n",
      " [1]  2  4  4  6  6  2  4 56  6  7  5  4\n"
     ]
    }
   ],
   "source": [
    "print(c)\n",
    "print(c+c(1,2))"
   ]
  },
  {
   "cell_type": "markdown",
   "metadata": {},
   "source": [
    "n char for length of each character in a vector"
   ]
  },
  {
   "cell_type": "code",
   "execution_count": 31,
   "metadata": {
    "vscode": {
     "languageId": "r"
    }
   },
   "outputs": [
    {
     "name": "stdout",
     "output_type": "stream",
     "text": [
      "[1] 4 3 5\n"
     ]
    }
   ],
   "source": [
    "q=c('hey ','ney','meyar')\n",
    "print(nchar(q))"
   ]
  },
  {
   "cell_type": "markdown",
   "metadata": {},
   "source": [
    "name the vector give\n"
   ]
  },
  {
   "cell_type": "code",
   "execution_count": 36,
   "metadata": {
    "vscode": {
     "languageId": "r"
    }
   },
   "outputs": [
    {
     "name": "stdout",
     "output_type": "stream",
     "text": [
      "      a       b       c \n",
      " \"hey \"   \"ney\" \"meyar\" \n",
      "     a \n",
      "\"hey \" \n"
     ]
    }
   ],
   "source": [
    "names(q)=c('a','b','c')\n",
    "print(q)\n",
    "print(q['a'])"
   ]
  },
  {
   "attachments": {},
   "cell_type": "markdown",
   "metadata": {},
   "source": [
    "different operators on numeric vector"
   ]
  },
  {
   "cell_type": "code",
   "execution_count": 40,
   "metadata": {
    "vscode": {
     "languageId": "r"
    }
   },
   "outputs": [
    {
     "name": "stdout",
     "output_type": "stream",
     "text": [
      "[1]       1      53      65     334 5343443\n",
      "[1] 5343443     334      65      53       1\n",
      "[1]      65 5343443      53     334       1\n",
      "[1] 5343896\n",
      "[1] 6.148326e+12\n"
     ]
    }
   ],
   "source": [
    "#numeric vector x\n",
    "x=c(1,334,53,5343443,65)\n",
    "print(sort(x))\n",
    "print(sort(x,decreasing = TRUE))\n",
    "\n",
    "print(rev(x))\n",
    "print(sum(x))\n",
    "print (prod(x))"
   ]
  },
  {
   "cell_type": "markdown",
   "metadata": {},
   "source": [
    "outer product ,crossproduct ,dot product"
   ]
  },
  {
   "cell_type": "code",
   "execution_count": 44,
   "metadata": {
    "vscode": {
     "languageId": "r"
    }
   },
   "outputs": [
    {
     "name": "stdout",
     "output_type": "stream",
     "text": [
      "     [,1]\n",
      "[1,]   42\n",
      "     [,1]\n",
      "[1,]   42\n",
      "     [,1] [,2] [,3] [,4]\n",
      "[1,]    1    2    4    5\n",
      "[2,]    2    4    8   10\n",
      "[3,]    3    6   12   15\n",
      "[4,]    5   10   20   25\n"
     ]
    }
   ],
   "source": [
    "x=c(1,2,3,5)\n",
    "y=c(1,2,4,5)\n",
    "print(x%*%y)\n",
    "print(crossprod(x,y))\n",
    "print(x%o%y)"
   ]
  },
  {
   "cell_type": "markdown",
   "metadata": {},
   "source": [
    "which retrieve index"
   ]
  },
  {
   "cell_type": "code",
   "execution_count": 50,
   "metadata": {
    "vscode": {
     "languageId": "r"
    }
   },
   "outputs": [
    {
     "name": "stdout",
     "output_type": "stream",
     "text": [
      "[1] 3 4\n"
     ]
    }
   ],
   "source": [
    "print(which(x>=3))"
   ]
  },
  {
   "cell_type": "code",
   "execution_count": 54,
   "metadata": {
    "vscode": {
     "languageId": "r"
    }
   },
   "outputs": [
    {
     "name": "stdout",
     "output_type": "stream",
     "text": [
      "[1]  2  3  5 NA NA NA NA NA NA\n"
     ]
    }
   ],
   "source": [
    "length(x)=12\n",
    "print(x[2:10])"
   ]
  },
  {
   "cell_type": "markdown",
   "metadata": {},
   "source": [
    "factors in r "
   ]
  },
  {
   "cell_type": "code",
   "execution_count": 93,
   "metadata": {
    "vscode": {
     "languageId": "r"
    }
   },
   "outputs": [
    {
     "name": "stdout",
     "output_type": "stream",
     "text": [
      "b\n",
      "FALSE  TRUE \n",
      "    2     2 \n"
     ]
    }
   ],
   "source": [
    "a=c(TRUE,FALSE,TRUE,FALSE)\n",
    "b=ordered(factor(a,levels=c(FALSE,TRUE),order=TRUE))\n",
    "print(table(b))\n"
   ]
  },
  {
   "cell_type": "markdown",
   "metadata": {},
   "source": [
    "table used for counting"
   ]
  },
  {
   "cell_type": "code",
   "execution_count": 59,
   "metadata": {
    "vscode": {
     "languageId": "r"
    }
   },
   "outputs": [
    {
     "data": {
      "text/plain": [
       "a\n",
       "FALSE  TRUE \n",
       "    2     2 "
      ]
     },
     "metadata": {},
     "output_type": "display_data"
    },
    {
     "data": {
      "text/html": [
       "'logical'"
      ],
      "text/latex": [
       "'logical'"
      ],
      "text/markdown": [
       "'logical'"
      ],
      "text/plain": [
       "[1] \"logical\""
      ]
     },
     "metadata": {},
     "output_type": "display_data"
    }
   ],
   "source": [
    "table(a)\n",
    "typeof(a)"
   ]
  },
  {
   "cell_type": "code",
   "execution_count": 61,
   "metadata": {
    "vscode": {
     "languageId": "r"
    }
   },
   "outputs": [
    {
     "name": "stderr",
     "output_type": "stream",
     "text": [
      "Warning message in 1:30:2:\n",
      "\"numerical expression has 30 elements: only the first used\"\n"
     ]
    },
    {
     "name": "stdout",
     "output_type": "stream",
     "text": [
      "[1] 1 2\n"
     ]
    }
   ],
   "source": [
    "print(1:30:2)"
   ]
  },
  {
   "attachments": {},
   "cell_type": "markdown",
   "metadata": {},
   "source": [
    "sequence creation \n",
    "\n"
   ]
  },
  {
   "cell_type": "code",
   "execution_count": 68,
   "metadata": {
    "vscode": {
     "languageId": "r"
    }
   },
   "outputs": [
    {
     "name": "stdout",
     "output_type": "stream",
     "text": [
      " [1]  1  3  5  7  9 11 13 15 17 19\n",
      "[1] \"double\"\n"
     ]
    }
   ],
   "source": [
    "print(seq(1,20,2))\n",
    "a=seq(1,25,3)\n",
    "print(typeof(a))\n",
    "a=c(a)"
   ]
  },
  {
   "cell_type": "code",
   "execution_count": 74,
   "metadata": {
    "vscode": {
     "languageId": "r"
    }
   },
   "outputs": [
    {
     "name": "stdout",
     "output_type": "stream",
     "text": [
      "[1]  1  4  7 10 13 16 19 22 25\n",
      "[1] TRUE\n"
     ]
    }
   ],
   "source": [
    "print(a)\n",
    "print(4 %in% a)"
   ]
  },
  {
   "cell_type": "code",
   "execution_count": 75,
   "metadata": {
    "vscode": {
     "languageId": "r"
    }
   },
   "outputs": [
    {
     "name": "stdout",
     "output_type": "stream",
     "text": [
      " [1]  2  4  6  8 10 12 14 16 18 20 22 24 26 28 30 32 34 36 38 40\n"
     ]
    }
   ],
   "source": [
    "print(2*1:20)"
   ]
  },
  {
   "cell_type": "code",
   "execution_count": 76,
   "metadata": {
    "vscode": {
     "languageId": "r"
    }
   },
   "outputs": [
    {
     "name": "stdout",
     "output_type": "stream",
     "text": [
      " [1]   -3   30   63   96  129  162  195  228  261  294  327  360  393  426  459\n",
      "[16]  492  525  558  591  624  657  690  723  756  789  822  855  888  921  954\n",
      "[31]  987 1020 1053 1086 1119 1152 1185 1218 1251 1284 1317 1350 1383 1416 1449\n",
      "[46] 1482 1515 1548 1581 1614 1647 1680 1713 1746 1779\n"
     ]
    }
   ],
   "source": [
    "a=seq(from=-3,length=55,by=33)\n",
    "print(a)"
   ]
  },
  {
   "cell_type": "code",
   "execution_count": 78,
   "metadata": {
    "vscode": {
     "languageId": "r"
    }
   },
   "outputs": [
    {
     "name": "stdout",
     "output_type": "stream",
     "text": [
      "[1] TRUE\n"
     ]
    }
   ],
   "source": [
    "print(is.na(a[100]))"
   ]
  },
  {
   "cell_type": "code",
   "execution_count": 79,
   "metadata": {
    "vscode": {
     "languageId": "r"
    }
   },
   "outputs": [
    {
     "data": {
      "text/html": [
       "Inf"
      ],
      "text/latex": [
       "Inf"
      ],
      "text/markdown": [
       "Inf"
      ],
      "text/plain": [
       "[1] Inf"
      ]
     },
     "metadata": {},
     "output_type": "display_data"
    }
   ],
   "source": [
    "2^1025"
   ]
  },
  {
   "cell_type": "code",
   "execution_count": 83,
   "metadata": {
    "vscode": {
     "languageId": "r"
    }
   },
   "outputs": [
    {
     "name": "stdout",
     "output_type": "stream",
     "text": [
      "[1] \"101-202-304-505\"\n"
     ]
    }
   ],
   "source": [
    "x=c(1,2,3,5)\n",
    "y=c(1,2,4,5)\n",
    "print(paste(x,y,collapse = '-',sep = '0'))"
   ]
  },
  {
   "attachments": {},
   "cell_type": "markdown",
   "metadata": {},
   "source": [
    "Other important objects are:\n",
    "Matrices : are multi-dimensional generalizations of vectors. They are vectors that can be indexed by two or more indices and will be printed in special ways. <br>\n",
    " Factors : to handle categorical data.<br>  \n",
    " Lists: are a general form of vector in which the various elements need not be of<br>\n",
    " Data Frames: are matrix-like structures, in which the columns can be of different types.<br>\n",
    " Functions: are themselves objects in R which can be stored in the project’s workspace.  the same type, and are often themselves vectors or lists. Lists provide a convenient way to return the results of a statistical computation.\n"
   ]
  },
  {
   "attachments": {},
   "cell_type": "markdown",
   "metadata": {},
   "source": [
    "tapply() is used to apply a function over subsets of a vector. \n"
   ]
  },
  {
   "cell_type": "code",
   "execution_count": 97,
   "metadata": {
    "vscode": {
     "languageId": "r"
    }
   },
   "outputs": [
    {
     "name": "stdout",
     "output_type": "stream",
     "text": [
      "\n",
      "Female   Male \n",
      "     5      5 \n",
      "Female   Male \n",
      "  66.8   44.0 \n"
     ]
    }
   ],
   "source": [
    "gender<-c(c(\"Male\",\"Female\",\"Male\",\"Male\",\"Female\",\"Female\",\"Female\",\"Male\",\"Male\",\"Female\"))\n",
    "print(table(factor(gender)))\n",
    "income=c(44,55,44,44,35,67,77,66,22,100)\n",
    "print(tapply(income,INDEX = gender,FUN = mean))"
   ]
  },
  {
   "cell_type": "markdown",
   "metadata": {},
   "source": []
  },
  {
   "cell_type": "markdown",
   "metadata": {},
   "source": []
  }
 ],
 "metadata": {
  "kernelspec": {
   "display_name": "R",
   "language": "R",
   "name": "ir"
  },
  "language_info": {
   "codemirror_mode": "r",
   "file_extension": ".r",
   "mimetype": "text/x-r-source",
   "name": "R",
   "pygments_lexer": "r",
   "version": "4.2.3"
  },
  "orig_nbformat": 4
 },
 "nbformat": 4,
 "nbformat_minor": 2
}
