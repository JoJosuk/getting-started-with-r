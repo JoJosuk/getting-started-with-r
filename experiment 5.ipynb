{
 "cells": [
  {
   "attachments": {},
   "cell_type": "markdown",
   "metadata": {},
   "source": [
    "write a r program to perform the following tasks\n",
    "1. use merge function to combine two data sets\n",
    "2. find palindrome in a dataframe and write to seperate to separate files\n",
    "3. use apply function to find maximum of each row and column"
   ]
  },
  {
   "cell_type": "code",
   "execution_count": 15,
   "metadata": {
    "vscode": {
     "languageId": "r"
    }
   },
   "outputs": [],
   "source": [
    "library(stringi)"
   ]
  },
  {
   "cell_type": "code",
   "execution_count": 16,
   "metadata": {
    "vscode": {
     "languageId": "r"
    }
   },
   "outputs": [],
   "source": [
    "palindrome=function(df){\n",
    "    dfe=data.frame(df[1])\n",
    "    count=2\n",
    "    for(x in df){\n",
    "        \n",
    "\n",
    "        li=c()\n",
    "        if (typeof(x)=='character'){\n",
    "            for (word in x){\n",
    "                if(stri_reverse(word)==word){\n",
    "                    li=append(li,'TRUE')\n",
    "                }\n",
    "                else {\n",
    "                    li=append(li,'FALSE')\n",
    "                }\n",
    "\n",
    "            }\n",
    "        dfe=cbind(dfe,li)\n",
    "        colnames(dfe)[count]=colnames(df)[count]\n",
    "        \n",
    "        }\n",
    "    }\n",
    "    return (dfe)\n",
    "}\n"
   ]
  },
  {
   "cell_type": "code",
   "execution_count": 17,
   "metadata": {
    "vscode": {
     "languageId": "r"
    }
   },
   "outputs": [],
   "source": [
    "df1=data.frame(\n",
    "    id=c(1,2,3),\n",
    "    name=c('jo','po','mom')\n",
    ")"
   ]
  },
  {
   "cell_type": "code",
   "execution_count": 18,
   "metadata": {
    "vscode": {
     "languageId": "r"
    }
   },
   "outputs": [],
   "source": [
    "df2= data.frame(\n",
    "    id=c(1,2,3),\n",
    "    name=c('david','jt','ashsa')\n",
    ")"
   ]
  },
  {
   "cell_type": "code",
   "execution_count": 19,
   "metadata": {
    "vscode": {
     "languageId": "r"
    }
   },
   "outputs": [
    {
     "name": "stdout",
     "output_type": "stream",
     "text": [
      "[1] \"OUTPUT\"\n",
      "  id name.x name.y\n",
      "1  1     jo  david\n",
      "2  2     po     jt\n",
      "3  3    mom  ashsa\n",
      "[1] \"palindrome\"\n",
      "  id name.x    li\n",
      "1  1  FALSE FALSE\n",
      "2  2  FALSE FALSE\n",
      "3  3   TRUE  TRUE\n",
      "[1] \"jo\"  \"po\"  \"mom\"\n",
      "    id name.x name.y \n",
      "   \"3\"   \"po\"   \"jt\" \n"
     ]
    }
   ],
   "source": [
    "print('OUTPUT')\n",
    "df3=merge(df1, df2,by='id')\n",
    "print(df3)\n",
    "print('palindrome')\n",
    "print(palindrome(df3))\n",
    "print(apply(df3,MARGIN=1,FUN=max))\n",
    "print(apply(df3,MARGIN=2,FUN=max))"
   ]
  }
 ],
 "metadata": {
  "kernelspec": {
   "display_name": "R",
   "language": "R",
   "name": "ir"
  },
  "language_info": {
   "codemirror_mode": "r",
   "file_extension": ".r",
   "mimetype": "text/x-r-source",
   "name": "R",
   "pygments_lexer": "r",
   "version": "4.2.2"
  },
  "orig_nbformat": 4
 },
 "nbformat": 4,
 "nbformat_minor": 2
}
